{
 "cells": [
  {
   "cell_type": "code",
   "execution_count": 3,
   "id": "c257ae42",
   "metadata": {},
   "outputs": [],
   "source": [
    "# ! pip install PyPDF2\n",
    "# ! pip install transformers\n",
    "# ! pip install torch\n",
    "# ! pip install nltk\n",
    "# ! pip install gtts"
   ]
  },
  {
   "cell_type": "code",
   "execution_count": 4,
   "id": "fafe910d",
   "metadata": {},
   "outputs": [
    {
     "name": "stderr",
     "output_type": "stream",
     "text": [
      "[nltk_data] Downloading package punkt to /Users/anuragm/nltk_data...\n",
      "[nltk_data]   Package punkt is already up-to-date!\n",
      "[nltk_data] Downloading package stopwords to\n",
      "[nltk_data]     /Users/anuragm/nltk_data...\n",
      "[nltk_data]   Package stopwords is already up-to-date!\n",
      "Device set to use mps:0\n"
     ]
    },
    {
     "name": "stdout",
     "output_type": "stream",
     "text": [
      "Extracting text from PDF...\n",
      "Generating summary...\n",
      "\n",
      "Generated Summary:\n",
      "Automatic Summary Generator for Study Materials uses Natural Language Processing NLP techniques. System allows users to upload study materials in the form of PDF files or raw text processes the content through a pretrained NLP model such as BAR T or T5.\n",
      "\n",
      "Converting summary to audio...\n",
      "Audio summary saved as summary_audio.mp3\n"
     ]
    }
   ],
   "source": [
    "import PyPDF2\n",
    "import nltk\n",
    "from transformers import pipeline\n",
    "import re\n",
    "import os\n",
    "from gtts import gTTS\n",
    "\n",
    "# Download NLTK resources for text preprocessing\n",
    "nltk.download('punkt')\n",
    "nltk.download('stopwords')\n",
    "\n",
    "# Initialize summarizer model (BART or T5)\n",
    "summarizer = pipeline(\"summarization\", model=\"facebook/bart-large-cnn\")\n",
    "\n",
    "# Text cleaning function\n",
    "def clean_text(text):\n",
    "    # Remove unwanted characters (e.g., extra spaces, special characters, etc.)\n",
    "    text = re.sub(r'\\s+', ' ', text)\n",
    "    text = re.sub(r'[^\\w\\s]', '', text)\n",
    "    return text\n",
    "\n",
    "# PDF Text Extraction Function\n",
    "def extract_text_from_pdf(pdf_path):\n",
    "    with open(pdf_path, 'rb') as file:\n",
    "        reader = PyPDF2.PdfReader(file)\n",
    "        text = \"\"\n",
    "        for page in range(len(reader.pages)):\n",
    "            text += reader.pages[page].extract_text()\n",
    "    return text\n",
    "\n",
    "# Function to generate summary from text\n",
    "def generate_summary(text, max_length=200, min_length=50):\n",
    "    summary = summarizer(text, max_length=max_length, min_length=min_length, do_sample=False)\n",
    "    return summary[0]['summary_text']\n",
    "\n",
    "# Function to create text-to-speech for the summary\n",
    "def text_to_speech(summary, language='en'):\n",
    "    tts = gTTS(text=summary, lang=language, slow=False)\n",
    "    filename = \"summary_audio.mp3\"\n",
    "    tts.save(filename)\n",
    "    print(f\"Audio summary saved as {filename}\")\n",
    "    return filename\n",
    "\n",
    "# Main function for PDF summary generation\n",
    "def main(pdf_path):\n",
    "    # Step 1: Extract text from the PDF file\n",
    "    print(\"Extracting text from PDF...\")\n",
    "    raw_text = extract_text_from_pdf(pdf_path)\n",
    "\n",
    "    # Step 2: Clean the extracted text\n",
    "    cleaned_text = clean_text(raw_text)\n",
    "\n",
    "    # Step 3: Generate the summary\n",
    "    print(\"Generating summary...\")\n",
    "    summary = generate_summary(cleaned_text)\n",
    "\n",
    "    # Step 4: Print summary\n",
    "    print(\"\\nGenerated Summary:\")\n",
    "    print(summary)\n",
    "\n",
    "    # Step 5: Optionally, convert summary to speech\n",
    "    print(\"\\nConverting summary to audio...\")\n",
    "    audio_file = text_to_speech(summary)\n",
    "\n",
    "    return summary, audio_file\n",
    "\n",
    "# Example: Process a PDF file\n",
    "if __name__ == \"__main__\":\n",
    "    # Replace with your own PDF file path\n",
    "    pdf_path = 'Automatic Summary Generator for Study Materials.pdf'\n",
    "    main(pdf_path)"
   ]
  },
  {
   "cell_type": "code",
   "execution_count": null,
   "id": "488a8509",
   "metadata": {},
   "outputs": [],
   "source": []
  },
  {
   "cell_type": "code",
   "execution_count": null,
   "id": "c586f03c",
   "metadata": {},
   "outputs": [],
   "source": []
  },
  {
   "cell_type": "code",
   "execution_count": null,
   "id": "383265d2",
   "metadata": {},
   "outputs": [],
   "source": []
  },
  {
   "cell_type": "code",
   "execution_count": null,
   "id": "b8cd4f68",
   "metadata": {},
   "outputs": [],
   "source": []
  },
  {
   "cell_type": "code",
   "execution_count": null,
   "id": "1ff0849b",
   "metadata": {},
   "outputs": [],
   "source": []
  },
  {
   "cell_type": "code",
   "execution_count": null,
   "id": "80133972",
   "metadata": {},
   "outputs": [],
   "source": []
  },
  {
   "cell_type": "code",
   "execution_count": null,
   "id": "446f4dbf",
   "metadata": {},
   "outputs": [],
   "source": []
  },
  {
   "cell_type": "code",
   "execution_count": null,
   "id": "d16aaa81",
   "metadata": {},
   "outputs": [],
   "source": []
  },
  {
   "cell_type": "code",
   "execution_count": null,
   "id": "81a1fe8d",
   "metadata": {},
   "outputs": [],
   "source": []
  },
  {
   "cell_type": "code",
   "execution_count": null,
   "id": "87eb87b7",
   "metadata": {},
   "outputs": [],
   "source": []
  },
  {
   "cell_type": "code",
   "execution_count": null,
   "id": "f241d890",
   "metadata": {},
   "outputs": [],
   "source": []
  },
  {
   "cell_type": "code",
   "execution_count": null,
   "id": "15f6e391",
   "metadata": {},
   "outputs": [],
   "source": []
  },
  {
   "cell_type": "markdown",
   "id": "768935bf",
   "metadata": {},
   "source": [
    "# Detailed Explanation:\n",
    "## PDF Text Extraction:\n",
    "\n",
    "We use PyPDF2 to read the content of a PDF file. The function extract_text_from_pdf(pdf_path) reads all pages of the PDF and extracts the text.\n",
    "\n",
    "## Text Preprocessing:\n",
    "\n",
    "The clean_text(text) function cleans the extracted text by removing unwanted characters, such as extra spaces and special symbols, using regular expressions.\n",
    "\n",
    "## Text Summarization:\n",
    "\n",
    "The generate_summary(text) function uses the Hugging Face transformers pipeline with a pre-trained BART model to generate a concise summary of the text. You can also use models like T5 (t5-small) or other summarization models.\n",
    "\n",
    "## Text-to-Speech Conversion:\n",
    "\n",
    "The text_to_speech(summary) function uses the Google Text-to-Speech (gTTS) library to convert the summary into an audio file (.mp3 format), making it easier for students to listen to the summary for revision.\n",
    "\n",
    "## Main Program:\n",
    "\n",
    "The main(pdf_path) function ties everything together: it reads the PDF, cleans the text, generates a summary, and optionally converts the summary to speech.\n",
    "\n",
    "4. Optional Feature Enhancements:\n",
    "Keyword Extraction: You can use libraries like RAKE or Spacy to extract keywords from the text. This would help students identify important concepts for deeper revision.\n",
    "\n",
    "Quiz Generation: To automatically generate quizzes, you could use NLP techniques like Named Entity Recognition (NER) or keyword extraction to form questions like \"What is the definition of X?\" or \"Who discovered Y?\". Libraries like transformers can be used for generating contextual questions.\n",
    "\n",
    "Multiple File Formats: Extend the tool to accept other formats like .txt, .docx, etc., by using appropriate libraries like python-docx or textract.\n",
    "\n",
    "5. Example Output:\n",
    "Assuming you upload a PDF file, the system will extract the text, generate a summary, and create an audio file. The result might look like this:\n",
    "\n",
    "plaintext\n",
    "Copy\n",
    "Edit\n",
    "Generated Summary:\n",
    "This paper discusses the advancements in AI, machine learning, and neural networks. It highlights recent breakthroughs in natural language processing and computer vision technologies. Key areas of focus include self-driving cars, intelligent assistants, and AI-powered medical diagnostics. These innovations are expected to revolutionize multiple industries in the coming years.\n",
    "\n",
    "Converting summary to audio...\n",
    "Audio summary saved as summary_audio.mp3\n",
    "6. Running the Code:\n",
    "Ensure that the pdf_path variable is set to the location of the PDF you want to summarize.\n",
    "\n",
    "The code will generate a text summary and, if enabled, produce an audio file (summary_audio.mp3).\n",
    "\n",
    "This implementation provides the basic structure for an Automatic Summary Generator for Study Materials. You can further expand it by adding additional features like keyword extraction, automatic quiz generation, and integration with more file formats."
   ]
  }
 ],
 "metadata": {
  "kernelspec": {
   "display_name": "tensorflow-test",
   "language": "python",
   "name": "python3"
  },
  "language_info": {
   "codemirror_mode": {
    "name": "ipython",
    "version": 3
   },
   "file_extension": ".py",
   "mimetype": "text/x-python",
   "name": "python",
   "nbconvert_exporter": "python",
   "pygments_lexer": "ipython3",
   "version": "3.10.17"
  }
 },
 "nbformat": 4,
 "nbformat_minor": 5
}
